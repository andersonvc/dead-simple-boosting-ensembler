{
 "cells": [
  {
   "cell_type": "markdown",
   "id": "ea9be72b-4436-42a8-8310-8b80099384ef",
   "metadata": {},
   "source": [
    "# Dead-Simple Boost Ensemble"
   ]
  },
  {
   "cell_type": "markdown",
   "id": "b0d81442-78e5-42bf-baf0-f9849b246b35",
   "metadata": {},
   "source": [
    "This notebook was prepared for the Kaggle October 2021 tabular-data competition, with the objective of creating a high performing model with minimal manual effort. Therefore, we're going with an ensemble of boosting models. As the tree construction used by XGBoost and LightGBM, we'll want to use both of those models in our ensemble, as well as the potential addition of a tabular-MLP model if time permits. The competition data is pretty simple, it's a binary classification problem with a mixture of normalized float & boolean features. The data is balanced & scored via ROC auc. \n",
    "\n",
    "Behind the scenes, this script does some pretty cool stuff --at least I think so\n",
    "\n",
    "1) Converts source data to a HDF5 table. The hdf5 data is grouped like '/{train|test}{0-N}{data|target}', The {0-N} seems a little wonky, but it allows the data to be further separated into minibatches, which makes multiprocessing super easy. Combining this with pytorch's Dataloader cuts the time to load our data into memory from 60s (using the original csv file) to 3s. The {train|test} split is automatically stratified (even though it's not necessary for this dataset).\n",
    "\n",
    "2) The ModelBuilder has a hook for our MLFlow server. This makes keeping track of experiments much easier. After running this script for a while, we can run 'get_best_models()' which will return the N best performing models. This is especially useful later on when we want to build out our ensemble.\n",
    "\n",
    "3) ModelBuilder also incorporates hyperopt. You'll still need to define the models' valid hyperparameter search space, but we now get to use TPE when determining our next search params, a massive improvement over grid-search or random search.\n",
    "\n",
    "4) The models (XGBModel or LGBModel) are trained using the GPU. We use kfold cross-validation on our training data (split in to train/val) to compute the run's average auc metric. Once finished the model is retrained using the entire training data & uploaded to the MLFlow artifact store.\n",
    "\n",
    "5) Finally, we can query the MLFlow server to get the top N XGBModels and top N LGBModels. Assign weights to them and plug them into our ensembler. (Not coded out yet, but the logic is pretty simple).\n",
    "\n",
    "6) Done."
   ]
  },
  {
   "cell_type": "code",
   "execution_count": 1,
   "id": "99e6813f-5021-4ec3-9906-cf76f42ea35b",
   "metadata": {},
   "outputs": [],
   "source": [
    "import numpy as np\n",
    "import gc\n",
    "\n",
    "from hdf_utils import HDFDatasetBuilder,HDFLoader\n",
    "from modelbuilder import ModelBuilder\n",
    "from hyperopt import hp\n",
    "from ensembler import build_ensemble, ensemble_predict"
   ]
  },
  {
   "cell_type": "markdown",
   "id": "aa5259c4-f673-45ae-87fd-6258bf322db5",
   "metadata": {},
   "source": [
    "### Transform source data into a more computationally friendly datastructure"
   ]
  },
  {
   "cell_type": "code",
   "execution_count": 2,
   "id": "c476c066-d3f1-49f6-99a1-14bfa6c5838d",
   "metadata": {},
   "outputs": [
    {
     "name": "stdout",
     "output_type": "stream",
     "text": [
      "hdf5 file (data.hdf5) already exists. No need to rebuild.\n"
     ]
    }
   ],
   "source": [
    "HDFDatasetBuilder(\n",
    "    source_filepath='data/train.csv',\n",
    "    output_filepath='data.hdf5',\n",
    "    desired_batchsize = 50000,\n",
    "    expected_workers = 10,\n",
    "    test_sample_size = 0.15,\n",
    "    shuffle_samples = True,\n",
    "    stratify_data = True,\n",
    "    features_to_exclude = ['id'],\n",
    "    target_column_name = 'target'\n",
    ")"
   ]
  },
  {
   "cell_type": "markdown",
   "id": "f1523ebf-323b-4fae-8b11-0bb647c079de",
   "metadata": {},
   "source": [
    "### Define hyperparameter search spaces for LightGBM and XGBoost models"
   ]
  },
  {
   "cell_type": "code",
   "execution_count": 3,
   "id": "94cd2c5e-12e0-403f-b5b7-1bbf66e0027c",
   "metadata": {},
   "outputs": [],
   "source": [
    "lgb_hyperopt_space = {\n",
    "    'reg_alpha': hp.uniform('reg_alpha',0.0,0.3),\n",
    "    'reg_lambda': hp.uniform('reg_lambda',0.0,0.2),\n",
    "    'learning_rate': hp.uniform('learning_rate',0.01,0.25),\n",
    "    'num_leaves': hp.choice('num_leaves', range(20,50,1)),\n",
    "    'max_depth': hp.choice('max_depth', range(2,12,1)),\n",
    "    'n_estimators': hp.choice('n_estimators',range(1000,10000,1)),\n",
    "    'subsample': hp.uniform('subsample',0.5,1.0),\n",
    "}\n",
    "\n",
    "xgb_hyperopt_space = {\n",
    "    'eta': hp.uniform('eta', 0.01, 0.15),\n",
    "    'max_depth': hp.choice('max_depth', range(2, 8, 1)),\n",
    "    'subsample': hp.uniform('subsample', 0.5, 0.75),\n",
    "    'n_estimators': hp.choice('n_estimators',range(1000,10000,1))\n",
    "}"
   ]
  },
  {
   "cell_type": "markdown",
   "id": "76caf99e-4424-40c4-a92e-92d3b86e2907",
   "metadata": {},
   "source": [
    "### Run Hyperparameter search to find optimal model configurations"
   ]
  },
  {
   "cell_type": "code",
   "execution_count": 4,
   "id": "52674ade-dbda-46ab-8e7d-7eea92173b22",
   "metadata": {},
   "outputs": [],
   "source": [
    "enable_search = False\n",
    "\n",
    "model_builder = ModelBuilder()\n",
    "while enable_search:\n",
    "    model_builder.run(\n",
    "        experiment_name='taboct-xgbm',\n",
    "        model_type='XGBModel',\n",
    "        hyperopt_space=xgb_hyperopt_space,\n",
    "    )    \n",
    "    \n",
    "    model_builder.run(\n",
    "        experiment_name='taboct-lgbm',\n",
    "        model_type='LGBModel',\n",
    "        hyperopt_space=lgb_hyperopt_space,\n",
    "    )"
   ]
  },
  {
   "cell_type": "markdown",
   "id": "9d2bc0d3-b3dd-40b0-9703-bfb64b513631",
   "metadata": {},
   "source": [
    "## Ensemble Models"
   ]
  },
  {
   "cell_type": "markdown",
   "id": "39b7cfd2-53ac-47d4-bb7f-274328e77c98",
   "metadata": {},
   "source": [
    "#### Create list of ensemblable models"
   ]
  },
  {
   "cell_type": "code",
   "execution_count": 5,
   "id": "86499edc-8098-48ec-86fc-47237ba1887b",
   "metadata": {},
   "outputs": [],
   "source": [
    "model_list = []\n",
    "model_list+=ModelBuilder().get_best_models(experiment_name='taboct-xgbm',model_type='xgbmodel',top_n=3) # Top 3 xgbmodels\n",
    "model_list+=ModelBuilder().get_best_models(experiment_name='taboct-xgbm',model_type='xgbmodel',top_n=1) # Top 1 xgbmodel again\n",
    "model_list+=ModelBuilder().get_best_models(experiment_name='taboct-xgbm',model_type='xgbmodel',top_n=1) # Top 1 xgbmodel again\n",
    "model_list+=ModelBuilder().get_best_models(experiment_name='taboct-lgbm',model_type='lgbmodel',top_n=3) # Top 3 lgbmodels\n",
    "model_list+=ModelBuilder().get_best_models(experiment_name='taboct-lgbm',model_type='lgbmodel',top_n=1) # Top 1 lgbmodel again\n",
    "model_list+=ModelBuilder().get_best_models(experiment_name='taboct-lgbm',model_type='lgbmodel',top_n=1) # Top 1 lgbmodel again\n"
   ]
  },
  {
   "cell_type": "code",
   "execution_count": 7,
   "id": "e5ea8f22-87ef-4514-a062-1a201899c06a",
   "metadata": {},
   "outputs": [
    {
     "name": "stderr",
     "output_type": "stream",
     "text": [
      "/home/ryan/projects/dead-simple/.venv/lib/python3.9/site-packages/sklearn/utils/validation.py:985: DataConversionWarning: A column-vector y was passed when a 1d array was expected. Please change the shape of y to (n_samples, ), for example using ravel().\n",
      "  y = column_or_1d(y, warn=True)\n",
      "/home/ryan/projects/dead-simple/.venv/lib/python3.9/site-packages/sklearn/utils/validation.py:985: DataConversionWarning: A column-vector y was passed when a 1d array was expected. Please change the shape of y to (n_samples, ), for example using ravel().\n",
      "  y = column_or_1d(y, warn=True)\n",
      "/home/ryan/projects/dead-simple/.venv/lib/python3.9/site-packages/sklearn/utils/validation.py:985: DataConversionWarning: A column-vector y was passed when a 1d array was expected. Please change the shape of y to (n_samples, ), for example using ravel().\n",
      "  y = column_or_1d(y, warn=True)\n",
      "/home/ryan/projects/dead-simple/.venv/lib/python3.9/site-packages/sklearn/utils/validation.py:985: DataConversionWarning: A column-vector y was passed when a 1d array was expected. Please change the shape of y to (n_samples, ), for example using ravel().\n",
      "  y = column_or_1d(y, warn=True)\n",
      "/home/ryan/projects/dead-simple/.venv/lib/python3.9/site-packages/sklearn/utils/validation.py:985: DataConversionWarning: A column-vector y was passed when a 1d array was expected. Please change the shape of y to (n_samples, ), for example using ravel().\n",
      "  y = column_or_1d(y, warn=True)\n"
     ]
    }
   ],
   "source": [
    "# Combine train & validation dataset into single dataset\n",
    "X_train,y_train = HDFLoader().dump_data('train')\n",
    "X_test,y_test = HDFLoader().dump_data('test')\n",
    "X_train = np.concatenate([X_train,X_test])\n",
    "y_train = np.concatenate([y_train,y_test])#.revel()\n",
    "del X_test,y_test\n",
    "gc.collect()\n",
    "\n",
    "# Refit ensembled models using merged dataset\n",
    "build_ensemble(model_list,X_train,y_train)"
   ]
  },
  {
   "cell_type": "markdown",
   "id": "c0fb9925-973f-4781-8106-177573d9aeba",
   "metadata": {
    "tags": []
   },
   "source": [
    "#### Generate Submission Record"
   ]
  },
  {
   "cell_type": "code",
   "execution_count": 8,
   "id": "170ffd1d-7a1f-4d47-89b9-060fd55fadf4",
   "metadata": {},
   "outputs": [],
   "source": [
    "import pandas as pd\n",
    "df = pd.read_csv('data/test.csv')\n",
    "id_col = df.pop('id')\n",
    "\n",
    "y_agg = ensemble_predict(df.to_numpy())\n",
    "\n",
    "df_out = pd.DataFrame([id_col,y_agg]).T\n",
    "df_out.columns=['id','target']\n",
    "df_out['id'] = df_out['id'].astype('int')\n",
    "df_out.to_csv('submission.csv',index=False)"
   ]
  },
  {
   "cell_type": "code",
   "execution_count": null,
   "id": "35a0e7db-fb88-4c31-9e15-4c5a0ff68919",
   "metadata": {},
   "outputs": [],
   "source": []
  },
  {
   "cell_type": "code",
   "execution_count": null,
   "id": "b40600c5-0685-4e1f-9c95-42d18965875d",
   "metadata": {},
   "outputs": [],
   "source": []
  }
 ],
 "metadata": {
  "kernelspec": {
   "display_name": "Python 3 (ipykernel)",
   "language": "python",
   "name": "python3"
  },
  "language_info": {
   "codemirror_mode": {
    "name": "ipython",
    "version": 3
   },
   "file_extension": ".py",
   "mimetype": "text/x-python",
   "name": "python",
   "nbconvert_exporter": "python",
   "pygments_lexer": "ipython3",
   "version": "3.9.1"
  }
 },
 "nbformat": 4,
 "nbformat_minor": 5
}
